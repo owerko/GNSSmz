{
  "nbformat": 4,
  "nbformat_minor": 0,
  "metadata": {
    "colab": {
      "name": "Untitled6.ipynb",
      "provenance": [],
      "include_colab_link": true
    },
    "kernelspec": {
      "name": "python3",
      "display_name": "Python 3"
    }
  },
  "cells": [
    {
      "cell_type": "markdown",
      "metadata": {
        "id": "view-in-github",
        "colab_type": "text"
      },
      "source": [
        "<a href=\"https://colab.research.google.com/github/owerko/GNSSmz/blob/master/Untitled6.ipynb\" target=\"_parent\"><img src=\"https://colab.research.google.com/assets/colab-badge.svg\" alt=\"Open In Colab\"/></a>"
      ]
    },
    {
      "cell_type": "code",
      "metadata": {
        "id": "3plpINolYKtr",
        "colab_type": "code",
        "colab": {
          "base_uri": "https://localhost:8080/",
          "height": 128
        },
        "outputId": "56b14034-5fcc-470c-ae64-1898b911877c"
      },
      "source": [
        "pip install pyproj"
      ],
      "execution_count": 1,
      "outputs": [
        {
          "output_type": "stream",
          "text": [
            "Collecting pyproj\n",
            "\u001b[?25l  Downloading https://files.pythonhosted.org/packages/7a/b1/ab67ad924770e1c1432fa0953a665b8ea193b60c7494457b69da052d6e83/pyproj-2.4.0-cp36-cp36m-manylinux1_x86_64.whl (10.1MB)\n",
            "\u001b[K     |████████████████████████████████| 10.1MB 4.7MB/s \n",
            "\u001b[?25hInstalling collected packages: pyproj\n",
            "Successfully installed pyproj-2.4.0\n"
          ],
          "name": "stdout"
        }
      ]
    },
    {
      "cell_type": "code",
      "metadata": {
        "id": "nCuR8Q9NYRRt",
        "colab_type": "code",
        "colab": {}
      },
      "source": [
        "from pyproj import CRS"
      ],
      "execution_count": 0,
      "outputs": []
    },
    {
      "cell_type": "code",
      "metadata": {
        "id": "d69ELSfgYZKz",
        "colab_type": "code",
        "colab": {
          "base_uri": "https://localhost:8080/",
          "height": 271
        },
        "outputId": "e68cc0f1-bce1-44b7-f3af-156ee96a43d2"
      },
      "source": [
        "crs_4326 = CRS.from_epsg(4326)\n",
        "crs_4326\n",
        "crs_26917 = CRS.from_epsg(26917)\n",
        "crs_26917"
      ],
      "execution_count": 5,
      "outputs": [
        {
          "output_type": "execute_result",
          "data": {
            "text/plain": [
              "<Projected CRS: EPSG:26917>\n",
              "Name: NAD83 / UTM zone 17N\n",
              "Axis Info [cartesian]:\n",
              "- E[east]: Easting (metre)\n",
              "- N[north]: Northing (metre)\n",
              "Area of Use:\n",
              "- name: North America - 84°W to 78°W and NAD83 by country\n",
              "- bounds: (-84.0, 23.81, -78.0, 84.0)\n",
              "Coordinate Operation:\n",
              "- name: UTM zone 17N\n",
              "- method: Transverse Mercator\n",
              "Datum: North American Datum 1983\n",
              "- Ellipsoid: GRS 1980\n",
              "- Prime Meridian: Greenwich"
            ]
          },
          "metadata": {
            "tags": []
          },
          "execution_count": 5
        }
      ]
    },
    {
      "cell_type": "code",
      "metadata": {
        "id": "UdHKEdxoYg-x",
        "colab_type": "code",
        "colab": {
          "base_uri": "https://localhost:8080/",
          "height": 35
        },
        "outputId": "5743a342-3451-42cf-86ed-76e0b7698ed2"
      },
      "source": [
        "from pyproj import Transformer\n",
        "transformer = Transformer.from_crs(crs_4326, crs_26917)\n",
        "transformer = Transformer.from_crs(4326, 26917)\n",
        "transformer = Transformer.from_crs(\"EPSG:4326\", \"EPSG:26917\")\n",
        "# transformer\n",
        "transformer.transform(50, -80)"
      ],
      "execution_count": 6,
      "outputs": [
        {
          "output_type": "execute_result",
          "data": {
            "text/plain": [
              "(571666.4475041276, 5539109.815175673)"
            ]
          },
          "metadata": {
            "tags": []
          },
          "execution_count": 6
        }
      ]
    }
  ]
}